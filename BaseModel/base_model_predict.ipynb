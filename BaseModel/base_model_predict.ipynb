{
 "cells": [
  {
   "cell_type": "code",
   "execution_count": 14,
   "id": "3ecbd66c",
   "metadata": {},
   "outputs": [],
   "source": [
    "import sys\n",
    "sys.path.append(\"../\")"
   ]
  },
  {
   "cell_type": "code",
   "execution_count": 2,
   "id": "4638a2a9",
   "metadata": {},
   "outputs": [
    {
     "name": "stderr",
     "output_type": "stream",
     "text": [
      "Using backend: pytorch\n"
     ]
    }
   ],
   "source": [
    "from Data.BiGCN_Dataloader import *"
   ]
  },
  {
   "cell_type": "code",
   "execution_count": 3,
   "id": "bb8a0e8e",
   "metadata": {},
   "outputs": [
    {
     "name": "stdout",
     "output_type": "stream",
     "text": [
      "/data01/home/scy0798/run/MLLu/da-mstf_-paper_-codes/BaseModel\r\n"
     ]
    }
   ],
   "source": [
    "!pwd"
   ]
  },
  {
   "cell_type": "code",
   "execution_count": 4,
   "id": "309e5553",
   "metadata": {},
   "outputs": [],
   "source": [
    "os.environ['DaMSTF_PATH'] = '/data01/home/scy0798/run/MLLu/da-mstf_-paper_-codes'"
   ]
  },
  {
   "cell_type": "code",
   "execution_count": 5,
   "id": "8c1c962b",
   "metadata": {},
   "outputs": [],
   "source": [
    "dir_name = \"/data01/home/scy0798/run/MLLu/pheme-rnr-dataset/\""
   ]
  },
  {
   "cell_type": "code",
   "execution_count": 6,
   "id": "7f20575d",
   "metadata": {},
   "outputs": [],
   "source": [
    "e_l = [fname for fname in [os.path.join(dir_name, path) for path in os.listdir(dir_name)] if os.path.isdir(fname)]"
   ]
  },
  {
   "cell_type": "code",
   "execution_count": 7,
   "id": "a3ea1437",
   "metadata": {},
   "outputs": [
    {
     "name": "stdout",
     "output_type": "stream",
     "text": [
      "load len:  890\n",
      "load len:  1221\n",
      "load len:  1143\n",
      "load len:  2079\n",
      "load len:  469\n",
      "data length :  5333/0/93/376/188\n"
     ]
    },
    {
     "name": "stderr",
     "output_type": "stream",
     "text": [
      "5333it [00:03, 1690.69it/s]\n",
      "5333it [00:04, 1225.29it/s]\n",
      "93it [00:00, 3840.90it/s]\n",
      "93it [00:00, 1341.82it/s]\n",
      "376it [00:00, 3857.12it/s]\n",
      "376it [00:00, 1359.85it/s]\n",
      "188it [00:00, 264.49it/s]\n",
      "188it [00:00, 1357.14it/s]\n"
     ]
    }
   ],
   "source": [
    "rst = load_data(e_l[:4], e_l[4:])"
   ]
  },
  {
   "cell_type": "code",
   "execution_count": 8,
   "id": "d2d3c676",
   "metadata": {},
   "outputs": [],
   "source": [
    "from BaseModel.BiGCN import *"
   ]
  },
  {
   "cell_type": "code",
   "execution_count": 9,
   "id": "c645528c",
   "metadata": {},
   "outputs": [],
   "source": [
    "    Tf_Idf_twitter_file = f\"{os.environ['DaMSTF_PATH']}/Caches/TfIdf_twitter.pkl\"\n",
    "    if os.path.exists(Tf_Idf_twitter_file):\n",
    "        with open(Tf_Idf_twitter_file, \"rb\") as fr:\n",
    "            tv = pickle.load(fr)"
   ]
  },
  {
   "cell_type": "code",
   "execution_count": 10,
   "id": "0e81a806",
   "metadata": {},
   "outputs": [
    {
     "name": "stdout",
     "output_type": "stream",
     "text": [
      "self.embedding.weight.requires_grad False\n",
      "requires_grad = True\n",
      "OOV Count: 3529\n",
      "OOV Ratio: 0.17261788299745648\n"
     ]
    }
   ],
   "source": [
    "    lvec = TFIDFBasedVecV2(tv, 20,\n",
    "                         embedding_size=100,\n",
    "                         w2v_dir=\"../../glove_en/\",\n",
    "                         emb_update=True,\n",
    "                         grad_preserve=True)"
   ]
  },
  {
   "cell_type": "code",
   "execution_count": 11,
   "id": "52004fc7",
   "metadata": {},
   "outputs": [
    {
     "data": {
      "text/plain": [
       "Parameter containing:\n",
       "tensor([[-0.2419, -0.0749, -0.3729,  ...,  0.9433,  0.7818,  0.0246],\n",
       "        [-0.2419, -0.0749, -0.3729,  ...,  0.9433,  0.7818,  0.0246],\n",
       "        [-0.2419, -0.0749, -0.3729,  ...,  0.9433,  0.7818,  0.0246],\n",
       "        ...,\n",
       "        [ 0.3164,  0.5755, -0.6974,  ...,  0.3079,  0.6399, -0.5179],\n",
       "        [-0.4864,  0.0696, -0.0421,  ...,  0.0824, -0.2416, -0.7165],\n",
       "        [-0.2419, -0.0749, -0.3729,  ...,  0.9433,  0.7818,  0.0246]],\n",
       "       device='cuda:0', requires_grad=True)"
      ]
     },
     "execution_count": 11,
     "metadata": {},
     "output_type": "execute_result"
    }
   ],
   "source": [
    "lvec.embedding.weight"
   ]
  },
  {
   "cell_type": "code",
   "execution_count": 12,
   "id": "4bf4e215",
   "metadata": {},
   "outputs": [],
   "source": [
    "def obtain_BiGCN(pretrained_vectorizer, device=None):\n",
    "    if device is None:\n",
    "        device = torch.device(\"cuda\") if torch.cuda.is_available() else torch.device('cpu')\n",
    "    lvec = TFIDFBasedVecV2(pretrained_vectorizer, 20,\n",
    "                         embedding_size=100,\n",
    "                         w2v_dir=\"../../glove_en/\",\n",
    "                         emb_update=True,\n",
    "                         grad_preserve=True).to(device)\n",
    "    prop = BiGCNV2(100, 256).to(device)\n",
    "    cls = nn.Linear(1024, 2).to(device)\n",
    "    BiGCN_model = TwitterBiGCN(lvec, prop, cls)\n",
    "    return BiGCN_model"
   ]
  },
  {
   "cell_type": "code",
   "execution_count": 13,
   "id": "bd739e21",
   "metadata": {},
   "outputs": [
    {
     "name": "stdout",
     "output_type": "stream",
     "text": [
      "self.embedding.weight.requires_grad False\n",
      "requires_grad = True\n",
      "OOV Count: 3529\n",
      "OOV Ratio: 0.17261788299745648\n"
     ]
    }
   ],
   "source": [
    "model = obtain_BiGCN(tv)"
   ]
  },
  {
   "cell_type": "code",
   "execution_count": null,
   "id": "1ad54cd3",
   "metadata": {},
   "outputs": [],
   "source": []
  },
  {
   "cell_type": "code",
   "execution_count": 15,
   "id": "b48ec12e",
   "metadata": {},
   "outputs": [
    {
     "ename": "NameError",
     "evalue": "name 'RumorBaseTrainer' is not defined",
     "output_type": "error",
     "traceback": [
      "\u001b[0;31m---------------------------------------------------------------------------\u001b[0m",
      "\u001b[0;31mNameError\u001b[0m                                 Traceback (most recent call last)",
      "\u001b[0;32m/tmp/ipykernel_45581/2520099612.py\u001b[0m in \u001b[0;36m<module>\u001b[0;34m\u001b[0m\n\u001b[0;32m----> 1\u001b[0;31m \u001b[0;32mclass\u001b[0m \u001b[0mBiGCNTrainer\u001b[0m\u001b[0;34m(\u001b[0m\u001b[0mRumorBaseTrainer\u001b[0m\u001b[0;34m)\u001b[0m\u001b[0;34m:\u001b[0m\u001b[0;34m\u001b[0m\u001b[0;34m\u001b[0m\u001b[0m\n\u001b[0m\u001b[1;32m      2\u001b[0m     \u001b[0;32mdef\u001b[0m \u001b[0m__init__\u001b[0m\u001b[0;34m(\u001b[0m\u001b[0mself\u001b[0m\u001b[0;34m,\u001b[0m \u001b[0mlog_dir\u001b[0m\u001b[0;34m,\u001b[0m \u001b[0mtokenizer\u001b[0m\u001b[0;34m:\u001b[0m\u001b[0mTfidfVectorizer\u001b[0m\u001b[0;34m)\u001b[0m\u001b[0;34m:\u001b[0m\u001b[0;34m\u001b[0m\u001b[0;34m\u001b[0m\u001b[0m\n\u001b[1;32m      3\u001b[0m         \u001b[0msuper\u001b[0m\u001b[0;34m(\u001b[0m\u001b[0mBiGCNTrainer\u001b[0m\u001b[0;34m,\u001b[0m \u001b[0mself\u001b[0m\u001b[0;34m)\u001b[0m\u001b[0;34m.\u001b[0m\u001b[0m__init__\u001b[0m\u001b[0;34m(\u001b[0m\u001b[0;34m)\u001b[0m\u001b[0;34m\u001b[0m\u001b[0;34m\u001b[0m\u001b[0m\n\u001b[1;32m      4\u001b[0m         \u001b[0mself\u001b[0m\u001b[0;34m.\u001b[0m\u001b[0mrunning_dir\u001b[0m \u001b[0;34m=\u001b[0m \u001b[0mlog_dir\u001b[0m\u001b[0;34m\u001b[0m\u001b[0;34m\u001b[0m\u001b[0m\n\u001b[1;32m      5\u001b[0m         \u001b[0;32mif\u001b[0m \u001b[0;32mnot\u001b[0m \u001b[0mos\u001b[0m\u001b[0;34m.\u001b[0m\u001b[0mpath\u001b[0m\u001b[0;34m.\u001b[0m\u001b[0mexists\u001b[0m\u001b[0;34m(\u001b[0m\u001b[0mself\u001b[0m\u001b[0;34m.\u001b[0m\u001b[0mrunning_dir\u001b[0m\u001b[0;34m)\u001b[0m\u001b[0;34m:\u001b[0m\u001b[0;34m\u001b[0m\u001b[0;34m\u001b[0m\u001b[0m\n",
      "\u001b[0;31mNameError\u001b[0m: name 'RumorBaseTrainer' is not defined"
     ]
    }
   ],
   "source": [
    "class BiGCNTrainer(RumorBaseTrainer):\n",
    "    def __init__(self, log_dir, tokenizer:TfidfVectorizer):\n",
    "        super(BiGCNTrainer, self).__init__()\n",
    "        self.running_dir = log_dir\n",
    "        if not os.path.exists(self.running_dir):\n",
    "            os.system(f\"mkdir {self.running_dir}\")\n",
    "        self.tokenizer = tokenizer\n",
    "        self.device = torch.device(\"cuda\") if torch.cuda.is_available() else torch.device(\"cpu\")\n",
    "\n",
    "    def collate_fn(self, items):\n",
    "        device = torch.device(\"cuda\") if torch.cuda.is_available() else torch.device('cpu')\n",
    "        tfidf_arr = torch.cat(\n",
    "            [item[0] for item in items],\n",
    "            dim=0\n",
    "        )\n",
    "        TD_graphs = [item[1] for item in items]\n",
    "        BU_graphs = [item[2] for item in items]\n",
    "        labels = [item[3] for item in items]\n",
    "        topic_labels = [item[4] for item in items]\n",
    "        num_nodes = [g.num_nodes() for g in TD_graphs]\n",
    "        big_g_TD = dgl.batch(TD_graphs)\n",
    "        big_g_BU = dgl.batch(BU_graphs)\n",
    "        A_TD = big_g_TD.adjacency_matrix().to_dense().to(device)\n",
    "        A_BU = big_g_BU.adjacency_matrix().to_dense().to(device)\n",
    "        return tfidf_arr, num_nodes, A_TD, A_BU, \\\n",
    "               torch.tensor(labels), torch.tensor(topic_labels)\n",
    "\n",
    "    def dataset2dataloader(self, dataset:FastBiGCNDataset, shuffle=False, batch_size=32):\n",
    "        if shuffle:\n",
    "            idxs = random.sample(range(len(dataset)), len(dataset))*2\n",
    "        else:\n",
    "            idxs = [*range(len(dataset))]*2\n",
    "        @background(max_prefetch=5)\n",
    "        def dataloader():\n",
    "            for start in range(0, len(dataset), batch_size):\n",
    "                batch_idxs = idxs[start:start+batch_size]\n",
    "                items = [dataset[index] for index in batch_idxs]\n",
    "                yield self.collate_fn(items)\n",
    "        return dataloader()"
   ]
  },
  {
   "cell_type": "code",
   "execution_count": null,
   "id": "a0ebfd67",
   "metadata": {},
   "outputs": [],
   "source": []
  }
 ],
 "metadata": {
  "kernelspec": {
   "display_name": "Python [conda env:miniconda3-lml]",
   "language": "python",
   "name": "conda-env-miniconda3-lml-py"
  },
  "language_info": {
   "codemirror_mode": {
    "name": "ipython",
    "version": 3
   },
   "file_extension": ".py",
   "mimetype": "text/x-python",
   "name": "python",
   "nbconvert_exporter": "python",
   "pygments_lexer": "ipython3",
   "version": "3.7.1"
  }
 },
 "nbformat": 4,
 "nbformat_minor": 5
}
