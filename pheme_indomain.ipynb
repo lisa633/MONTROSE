{
 "cells": [
  {
   "cell_type": "code",
   "execution_count": 14,
   "id": "5fb89530-5e1e-4a01-b913-c144930caeae",
   "metadata": {},
   "outputs": [],
   "source": [
    "from HierarchicalTransformer import * #这句需要运行一下，加载需要调用的库"
   ]
  },
  {
   "cell_type": "code",
   "execution_count": 15,
   "id": "b58e7343-f360-4107-8bde-efc75b5df79f",
   "metadata": {},
   "outputs": [],
   "source": [
    "#加载数据集，主要修改domain_ID,对应测试不同目标域的效果,从0,1,3,4中进行选择,2可以先不测"
   ]
  },
  {
   "cell_type": "code",
   "execution_count": 16,
   "id": "d2bfcc1d-3e83-46b1-8e89-eaf632e5c927",
   "metadata": {},
   "outputs": [
    {
     "name": "stdout",
     "output_type": "stream",
     "text": [
      "load len:  1143\n",
      "load len:  469\n",
      "load len:  890\n",
      "load len:  1221\n",
      "load len:  2079\n"
     ]
    }
   ],
   "source": [
    "    data_dir1 = r\"../../autodl-tmp/data/pheme-rnr-dataset/\"\n",
    "    \n",
    "#     os.environ['CUDA_VISIBLE_DEVICES'] = \"0\" \n",
    "\n",
    "    events_list = ['charliehebdo', 'ferguson', 'germanwings-crash', 'ottawashooting','sydneysiege']\n",
    "    # for domain_ID in range(5):\n",
    "    domain_ID = 0\n",
    "#选择目标域，与event_list对应\n",
    "    fewShotCnt = 100\n",
    "    source_events = [os.path.join(data_dir1, dname)\n",
    "                     for idx, dname in enumerate(events_list) if idx != domain_ID]\n",
    "    # source_events = [os.path.join(data_dir1, dname)\n",
    "    #                  for idx, dname in enumerate(events_list)]\n",
    "    target_events = [os.path.join(data_dir1, events_list[domain_ID])]\n",
    "    test_event_name = events_list[domain_ID]\n",
    "    data_dir2 = r\"../../autodl-tmp/data/pheme-rnr-dataset/qwen_gen_from_source/\" + test_event_name\n",
    "    #train_set, labeled_target, val_set, test_set, unlabeled_target\n",
    "    source_domain, labeled_target, val_set, test_set, unlabeled_target = load_data(\n",
    "        source_events, target_events, fewShotCnt, unlabeled_ratio=0.3\n",
    "    )"
   ]
  },
  {
   "cell_type": "code",
   "execution_count": 17,
   "id": "c5284a39-5d53-4f21-8487-c2c41b19ceca",
   "metadata": {},
   "outputs": [],
   "source": [
    "#加载生成的数据，可以根据训练效果调整正负样本的数量"
   ]
  },
  {
   "cell_type": "code",
   "execution_count": 18,
   "id": "200e3aa9-399d-4f99-876a-7db6da417548",
   "metadata": {},
   "outputs": [
    {
     "name": "stdout",
     "output_type": "stream",
     "text": [
      "../../autodl-tmp/data/pheme-rnr-dataset/qwen_gen_from_source/charliehebdo\n",
      "load len:  1328\n",
      "rumor: 154\n",
      "non rumor: 510\n"
     ]
    }
   ],
   "source": [
    "    print(data_dir2)\n",
    "    gen_dataset = MetaMCMCDataset()\n",
    "    gen_dataset.load_data_fast(data_dir2)\n",
    "    \n",
    "    gen_target = MetaMCMCDataset()\n",
    "    gen_target.data = {}\n",
    "    rumor_count = 0\n",
    "    non_rumor_count = 0\n",
    "    actual_non = 0\n",
    "    actual_rumor = 0\n",
    "    gen_dataset.data_ID = random.sample(gen_dataset.data_ID, len(gen_dataset.data_ID))\n",
    "    for i,d_ID in enumerate(gen_dataset.data_ID):\n",
    "        if gen_dataset.data[d_ID]['label'] == \"rumours\":\n",
    "            \n",
    "            rumor_count += 1\n",
    "            #控制rumor数量(即label为1的样本)\n",
    "            if rumor_count % 2 == 0:\n",
    "                gen_target.data[d_ID] = gen_dataset.data[d_ID]\n",
    "                actual_rumor += 1\n",
    "        else:\n",
    "            non_rumor_count += 1\n",
    "            #控制non-rumor数量(即label为0的样本)\n",
    "            if non_rumor_count % 2 == 0:\n",
    "                gen_target.data[d_ID] = gen_dataset.data[d_ID]\n",
    "                actual_non += 1\n",
    "        \n",
    "    print(\"rumor:\", actual_rumor)\n",
    "    print(\"non rumor:\", actual_non)\n",
    "#     random.sample(gen_dataset.data_ID,1500)\n",
    "    gen_target.dataclear()\n",
    "    data_list = [unlabeled_target,gen_target]\n",
    "    new_unlabeled_target = reduce(Merge_data,data_list)"
   ]
  },
  {
   "cell_type": "code",
   "execution_count": 19,
   "id": "6058f2ac-f844-4ee4-b987-c86c55c4b693",
   "metadata": {},
   "outputs": [],
   "source": [
    "#开始训练,可供调整的参数主要是DgMSTF_Trainer中的learning_rate（任务学习率），epsilon_ball（扰动范围），G_lr（扰动学习率）\n",
    "#D_lr（领域判别学习率），dStep（扰动步长）每10步会进行开发集和测试集的验证,主要记录打印出来的Performance中的valid_acc和valid_f1_1\n",
    "#效果好时截图保存，并记录参数信息"
   ]
  },
  {
   "cell_type": "code",
   "execution_count": 26,
   "id": "b6978976-4592-4313-9d6a-c7960ac692dd",
   "metadata": {},
   "outputs": [
    {
     "name": "stdout",
     "output_type": "stream",
     "text": [
      "charliehebdo : (dev event)/(test event)/(train event) = 593/1386/3723\n",
      "\n",
      "\n",
      "===========charliehebdo Out Domain Train===========\n",
      "\n",
      "\n"
     ]
    },
    {
     "name": "stderr",
     "output_type": "stream",
     "text": [
      "3723it [00:00, 296594.31it/s]\n"
     ]
    },
    {
     "name": "stdout",
     "output_type": "stream",
     "text": [
      "Warning: MetaLearningFramework does not have attribute random_seed\n",
      "Warning: MetaLearningFramework does not have attribute log_dir\n",
      "Warning: MetaLearningFramework does not have attribute suffix\n",
      "Warning: MetaLearningFramework does not have attribute temperature\n",
      "Warning: MetaLearningFramework does not have attribute learning_rate\n",
      "Warning: MetaLearningFramework does not have attribute batch_size\n",
      "Warning: MetaLearningFramework does not have attribute Lambda\n",
      "Warning: DgMSTF_Trainer has no attribute random_seed\n",
      "Warning: DgMSTF_Trainer has no attribute log_dir\n",
      "Warning: DgMSTF_Trainer has no attribute suffix\n",
      "Warning: DgMSTF_Trainer has no attribute temperature\n",
      "Warning: DgMSTF_Trainer has no attribute learning_rate\n",
      "Warning: DgMSTF_Trainer has no attribute batch_size\n",
      "Warning: DgMSTF_Trainer has no attribute Lambda\n",
      "being domain discriminate!\n"
     ]
    },
    {
     "name": "stderr",
     "output_type": "stream",
     "text": [
      "Truncation was not explicitly activated but `max_length` is provided a specific value, please use `truncation=True` to explicitly truncate examples to max length. Defaulting to 'longest_first' truncation strategy. If you encode pairs of sequences (GLUE-style) with the tokenizer you can select this strategy more precisely by providing a specific strategy to `truncation`.\n"
     ]
    },
    {
     "ename": "RuntimeError",
     "evalue": "Caught RuntimeError in replica 0 on device 0.\nOriginal Traceback (most recent call last):\n  File \"/usr/local/anaconda3/envs/da-mstf/lib/python3.8/site-packages/torch/nn/parallel/parallel_apply.py\", line 61, in _worker\n    output = module(*input, **kwargs)\n  File \"/usr/local/anaconda3/envs/da-mstf/lib/python3.8/site-packages/torch/nn/modules/module.py\", line 1102, in _call_impl\n    return forward_call(*input, **kwargs)\n  File \"/home/ubuntu/da-mstf_rumor/da-mstf_rumor/BaseModel/modeling_bert.py\", line 1100, in forward\n    encoder_outputs = self.encoder(\n  File \"/usr/local/anaconda3/envs/da-mstf/lib/python3.8/site-packages/torch/nn/modules/module.py\", line 1102, in _call_impl\n    return forward_call(*input, **kwargs)\n  File \"/home/ubuntu/da-mstf_rumor/da-mstf_rumor/BaseModel/modeling_bert.py\", line 691, in forward\n    layer_outputs = layer_module(\n  File \"/usr/local/anaconda3/envs/da-mstf/lib/python3.8/site-packages/torch/nn/modules/module.py\", line 1102, in _call_impl\n    return forward_call(*input, **kwargs)\n  File \"/home/ubuntu/da-mstf_rumor/da-mstf_rumor/BaseModel/modeling_bert.py\", line 576, in forward\n    self_attention_outputs = self.attention(\n  File \"/usr/local/anaconda3/envs/da-mstf/lib/python3.8/site-packages/torch/nn/modules/module.py\", line 1102, in _call_impl\n    return forward_call(*input, **kwargs)\n  File \"/home/ubuntu/da-mstf_rumor/da-mstf_rumor/BaseModel/modeling_bert.py\", line 506, in forward\n    self_outputs = self.self(\n  File \"/usr/local/anaconda3/envs/da-mstf/lib/python3.8/site-packages/torch/nn/modules/module.py\", line 1102, in _call_impl\n    return forward_call(*input, **kwargs)\n  File \"/home/ubuntu/da-mstf_rumor/da-mstf_rumor/BaseModel/modeling_bert.py\", line 407, in forward\n    attention_scores = torch.matmul(query_layer, key_layer.transpose(-1, -2))\nRuntimeError: CUDA out of memory. Tried to allocate 540.00 MiB (GPU 0; 23.64 GiB total capacity; 17.84 GiB already allocated; 321.69 MiB free; 21.21 GiB reserved in total by PyTorch) If reserved memory is >> allocated memory try setting max_split_size_mb to avoid fragmentation.  See documentation for Memory Management and PYTORCH_CUDA_ALLOC_CONF\n",
     "output_type": "error",
     "traceback": [
      "\u001b[0;31m---------------------------------------------------------------------------\u001b[0m",
      "\u001b[0;31mRuntimeError\u001b[0m                              Traceback (most recent call last)",
      "Cell \u001b[0;32mIn[26], line 43\u001b[0m\n\u001b[1;32m     41\u001b[0m         trainer\u001b[38;5;241m.\u001b[39moptimizeDiscriminator(model, source_domain, new_unlabeled_target, max_step\u001b[38;5;241m=\u001b[39m\u001b[38;5;241m500\u001b[39m)\n\u001b[1;32m     42\u001b[0m     torch\u001b[38;5;241m.\u001b[39msave(trainer\u001b[38;5;241m.\u001b[39mdomain_discriminator\u001b[38;5;241m.\u001b[39mstate_dict(), \u001b[38;5;124mf\u001b[39m\u001b[38;5;124m\"\u001b[39m\u001b[38;5;124m../../autodl-tmp/pkl/GpDANN/DomainDiscriminator_\u001b[39m\u001b[38;5;132;01m{\u001b[39;00mtest_event_name\u001b[38;5;132;01m}\u001b[39;00m\u001b[38;5;124m.pkl\u001b[39m\u001b[38;5;124m\"\u001b[39m)\n\u001b[0;32m---> 43\u001b[0m \u001b[43mtrainer\u001b[49m\u001b[38;5;241;43m.\u001b[39;49m\u001b[43mTraining\u001b[49m\u001b[43m(\u001b[49m\u001b[43mmodel\u001b[49m\u001b[43m,\u001b[49m\u001b[43m \u001b[49m\u001b[43msource_domain\u001b[49m\u001b[43m,\u001b[49m\u001b[43m \u001b[49m\u001b[43mnew_unlabeled_target\u001b[49m\u001b[43m,\u001b[49m\u001b[43m \u001b[49m\u001b[43mtest_set\u001b[49m\u001b[43m,\u001b[49m\u001b[43m \u001b[49m\u001b[43mdev_eval\u001b[49m\u001b[43m,\u001b[49m\u001b[43m \u001b[49m\u001b[43mte_eval\u001b[49m\u001b[43m,\u001b[49m\u001b[43m \u001b[49m\u001b[43mmax_iterate\u001b[49m\u001b[38;5;241;43m=\u001b[39;49m\u001b[38;5;241;43m100\u001b[39;49m\u001b[43m)\u001b[49m\n",
      "File \u001b[0;32m/home/ubuntu/da-mstf_rumor/da-mstf_rumor/HierarchicalTransformer.py:1470\u001b[0m, in \u001b[0;36mDgMSTF_Trainer.Training\u001b[0;34m(self, model, source_domain, unlabeled_target, test_set, dev_eval, test_eval, max_iterate)\u001b[0m\n\u001b[1;32m   1468\u001b[0m \u001b[38;5;28mself\u001b[39m\u001b[38;5;241m.\u001b[39miterate \u001b[38;5;241m=\u001b[39m \u001b[38;5;241m0\u001b[39m\n\u001b[1;32m   1469\u001b[0m \u001b[38;5;28;01mfor\u001b[39;00m iterate \u001b[38;5;129;01min\u001b[39;00m \u001b[38;5;28mrange\u001b[39m(max_iterate):\n\u001b[0;32m-> 1470\u001b[0m     \u001b[38;5;28;43mself\u001b[39;49m\u001b[38;5;241;43m.\u001b[39;49m\u001b[43mPseudoLabeling\u001b[49m\u001b[43m(\u001b[49m\u001b[43mmodel\u001b[49m\u001b[43m,\u001b[49m\u001b[43m \u001b[49m\u001b[43munlabeled_target\u001b[49m\u001b[43m)\u001b[49m\n\u001b[1;32m   1471\u001b[0m     \u001b[38;5;28mself\u001b[39m\u001b[38;5;241m.\u001b[39mSelection(unlabeled_target)\n\u001b[1;32m   1472\u001b[0m     \u001b[38;5;28mself\u001b[39m\u001b[38;5;241m.\u001b[39mModelRetraining(model, source_domain, unlabeled_target, test_set\u001b[38;5;241m.\u001b[39mlabelTensor()\u001b[38;5;241m.\u001b[39margmax(dim\u001b[38;5;241m=\u001b[39m\u001b[38;5;241m1\u001b[39m), dev_eval, test_eval, \n\u001b[1;32m   1473\u001b[0m                          max_epoch\u001b[38;5;241m=\u001b[39m\u001b[38;5;28mself\u001b[39m\u001b[38;5;241m.\u001b[39minner_epochs)\n",
      "File \u001b[0;32m/home/ubuntu/da-mstf_rumor/da-mstf_rumor/HierarchicalTransformer.py:1456\u001b[0m, in \u001b[0;36mDgMSTF_Trainer.PseudoLabeling\u001b[0;34m(self, model, dataset, temperature)\u001b[0m\n\u001b[1;32m   1454\u001b[0m A_BU \u001b[38;5;241m=\u001b[39m big_g_BU\u001b[38;5;241m.\u001b[39madjacency_matrix()\u001b[38;5;241m.\u001b[39mto_dense()\u001b[38;5;241m.\u001b[39mto(\u001b[38;5;28mself\u001b[39m\u001b[38;5;241m.\u001b[39mdevice)\n\u001b[1;32m   1455\u001b[0m \u001b[38;5;28;01mwith\u001b[39;00m torch\u001b[38;5;241m.\u001b[39mno_grad():\n\u001b[0;32m-> 1456\u001b[0m     logits \u001b[38;5;241m=\u001b[39m \u001b[43mmodel\u001b[49m\u001b[38;5;241;43m.\u001b[39;49m\u001b[43mpredict\u001b[49m\u001b[43m(\u001b[49m\n\u001b[1;32m   1457\u001b[0m \u001b[43m        \u001b[49m\u001b[43m(\u001b[49m\u001b[43mtexts\u001b[49m\u001b[43m,\u001b[49m\u001b[43m \u001b[49m\u001b[43mnum_nodes\u001b[49m\u001b[43m,\u001b[49m\u001b[43m \u001b[49m\u001b[43mA_TD\u001b[49m\u001b[43m,\u001b[49m\u001b[43m \u001b[49m\u001b[43mA_BU\u001b[49m\u001b[43m)\u001b[49m\u001b[43m,\u001b[49m\n\u001b[1;32m   1458\u001b[0m \u001b[43m        \u001b[49m\u001b[43mtemperature\u001b[49m\u001b[38;5;241;43m=\u001b[39;49m\u001b[43mtemperature\u001b[49m\n\u001b[1;32m   1459\u001b[0m \u001b[43m    \u001b[49m\u001b[43m)\u001b[49m\n\u001b[1;32m   1460\u001b[0m     confidence, label_idx \u001b[38;5;241m=\u001b[39m torch\u001b[38;5;241m.\u001b[39mmax(logits, dim\u001b[38;5;241m=\u001b[39m\u001b[38;5;241m1\u001b[39m) \u001b[38;5;66;03m#confidence保存最大概率，label_idx为该概率对应的类别\u001b[39;00m\n\u001b[1;32m   1461\u001b[0m     eye \u001b[38;5;241m=\u001b[39m torch\u001b[38;5;241m.\u001b[39meye(\u001b[38;5;28mself\u001b[39m\u001b[38;5;241m.\u001b[39mclass_num, device\u001b[38;5;241m=\u001b[39m\u001b[38;5;28mself\u001b[39m\u001b[38;5;241m.\u001b[39mdevice) \u001b[38;5;66;03m#创建一个形状为 (self.class_num, self.class_num) 的单位矩阵\u001b[39;00m\n",
      "File \u001b[0;32m/home/ubuntu/da-mstf_rumor/da-mstf_rumor/BaseModel/BiGCN_Utils/RumorDetectionBasic.py:57\u001b[0m, in \u001b[0;36mRumorDetection.predict\u001b[0;34m(self, batch, temperature)\u001b[0m\n\u001b[1;32m     56\u001b[0m \u001b[38;5;28;01mdef\u001b[39;00m \u001b[38;5;21mpredict\u001b[39m(\u001b[38;5;28mself\u001b[39m, batch, temperature\u001b[38;5;241m=\u001b[39m\u001b[38;5;241m1.0\u001b[39m):\n\u001b[0;32m---> 57\u001b[0m     seq_outs \u001b[38;5;241m=\u001b[39m \u001b[38;5;28;43mself\u001b[39;49m\u001b[38;5;241;43m.\u001b[39;49m\u001b[43mBatch2Vecs\u001b[49m\u001b[43m(\u001b[49m\u001b[43mbatch\u001b[49m\u001b[43m)\u001b[49m\n\u001b[1;32m     58\u001b[0m     logits \u001b[38;5;241m=\u001b[39m \u001b[38;5;28mself\u001b[39m\u001b[38;5;241m.\u001b[39mrdm_cls(seq_outs)\n\u001b[1;32m     59\u001b[0m     t_logits \u001b[38;5;241m=\u001b[39m logits\u001b[38;5;241m/\u001b[39mtemperature\n",
      "File \u001b[0;32m/home/ubuntu/da-mstf_rumor/da-mstf_rumor/HierarchicalTransformer.py:238\u001b[0m, in \u001b[0;36mTwitterTransformer.Batch2Vecs\u001b[0;34m(self, batch)\u001b[0m\n\u001b[1;32m    236\u001b[0m adj_mtx \u001b[38;5;241m=\u001b[39m (A_TD \u001b[38;5;241m+\u001b[39m A_BU)\u001b[38;5;241m.\u001b[39m\u001b[38;5;21m__ne__\u001b[39m(\u001b[38;5;241m0.0\u001b[39m)\u001b[38;5;241m.\u001b[39mfloat()\n\u001b[1;32m    237\u001b[0m attn_mask \u001b[38;5;241m=\u001b[39m (\u001b[38;5;241m-\u001b[39m\u001b[38;5;241m10000\u001b[39m \u001b[38;5;241m*\u001b[39m (\u001b[38;5;241m1.0\u001b[39m \u001b[38;5;241m-\u001b[39m adj_mtx))\u001b[38;5;241m.\u001b[39munsqueeze(\u001b[38;5;241m0\u001b[39m)\u001b[38;5;241m.\u001b[39munsqueeze(\u001b[38;5;241m0\u001b[39m)\n\u001b[0;32m--> 238\u001b[0m inputs \u001b[38;5;241m=\u001b[39m \u001b[38;5;28;43mself\u001b[39;49m\u001b[38;5;241;43m.\u001b[39;49m\u001b[43msent2vec\u001b[49m\u001b[43m(\u001b[49m\u001b[43msentences\u001b[49m\u001b[43m)\u001b[49m\n\u001b[1;32m    239\u001b[0m num_nodes: List \u001b[38;5;241m=\u001b[39m batch[\u001b[38;5;241m1\u001b[39m]\n\u001b[1;32m    240\u001b[0m root_idxs \u001b[38;5;241m=\u001b[39m [\u001b[38;5;28msum\u001b[39m(num_nodes[:idx]) \u001b[38;5;28;01mfor\u001b[39;00m idx \u001b[38;5;129;01min\u001b[39;00m \u001b[38;5;28mrange\u001b[39m(\u001b[38;5;28mlen\u001b[39m(num_nodes))]\n",
      "File \u001b[0;32m/usr/local/anaconda3/envs/da-mstf/lib/python3.8/site-packages/torch/nn/modules/module.py:1102\u001b[0m, in \u001b[0;36mModule._call_impl\u001b[0;34m(self, *input, **kwargs)\u001b[0m\n\u001b[1;32m   1098\u001b[0m \u001b[38;5;66;03m# If we don't have any hooks, we want to skip the rest of the logic in\u001b[39;00m\n\u001b[1;32m   1099\u001b[0m \u001b[38;5;66;03m# this function, and just call forward.\u001b[39;00m\n\u001b[1;32m   1100\u001b[0m \u001b[38;5;28;01mif\u001b[39;00m \u001b[38;5;129;01mnot\u001b[39;00m (\u001b[38;5;28mself\u001b[39m\u001b[38;5;241m.\u001b[39m_backward_hooks \u001b[38;5;129;01mor\u001b[39;00m \u001b[38;5;28mself\u001b[39m\u001b[38;5;241m.\u001b[39m_forward_hooks \u001b[38;5;129;01mor\u001b[39;00m \u001b[38;5;28mself\u001b[39m\u001b[38;5;241m.\u001b[39m_forward_pre_hooks \u001b[38;5;129;01mor\u001b[39;00m _global_backward_hooks\n\u001b[1;32m   1101\u001b[0m         \u001b[38;5;129;01mor\u001b[39;00m _global_forward_hooks \u001b[38;5;129;01mor\u001b[39;00m _global_forward_pre_hooks):\n\u001b[0;32m-> 1102\u001b[0m     \u001b[38;5;28;01mreturn\u001b[39;00m \u001b[43mforward_call\u001b[49m\u001b[43m(\u001b[49m\u001b[38;5;241;43m*\u001b[39;49m\u001b[38;5;28;43minput\u001b[39;49m\u001b[43m,\u001b[49m\u001b[43m \u001b[49m\u001b[38;5;241;43m*\u001b[39;49m\u001b[38;5;241;43m*\u001b[39;49m\u001b[43mkwargs\u001b[49m\u001b[43m)\u001b[49m\n\u001b[1;32m   1103\u001b[0m \u001b[38;5;66;03m# Do not call functions when jit is used\u001b[39;00m\n\u001b[1;32m   1104\u001b[0m full_backward_hooks, non_full_backward_hooks \u001b[38;5;241m=\u001b[39m [], []\n",
      "File \u001b[0;32m/home/ubuntu/da-mstf_rumor/da-mstf_rumor/HierarchicalTransformer.py:95\u001b[0m, in \u001b[0;36mSentBert.forward\u001b[0;34m(self, sents)\u001b[0m\n\u001b[1;32m     93\u001b[0m \u001b[38;5;28;01mdef\u001b[39;00m \u001b[38;5;21mforward\u001b[39m(\u001b[38;5;28mself\u001b[39m, sents):\n\u001b[1;32m     94\u001b[0m     input_ids, masks, seg_ids \u001b[38;5;241m=\u001b[39m \u001b[38;5;28mself\u001b[39m\u001b[38;5;241m.\u001b[39mtext_to_batch_transformer(sents)\n\u001b[0;32m---> 95\u001b[0m     encoder_dict \u001b[38;5;241m=\u001b[39m \u001b[38;5;28;43mself\u001b[39;49m\u001b[38;5;241;43m.\u001b[39;49m\u001b[43mmodel\u001b[49m\u001b[38;5;241;43m.\u001b[39;49m\u001b[43mforward\u001b[49m\u001b[43m(\u001b[49m\n\u001b[1;32m     96\u001b[0m \u001b[43m        \u001b[49m\u001b[43minput_ids\u001b[49m\u001b[38;5;241;43m=\u001b[39;49m\u001b[43minput_ids\u001b[49m\u001b[43m,\u001b[49m\n\u001b[1;32m     97\u001b[0m \u001b[43m        \u001b[49m\u001b[43mattention_mask\u001b[49m\u001b[38;5;241;43m=\u001b[39;49m\u001b[43mmasks\u001b[49m\u001b[43m,\u001b[49m\n\u001b[1;32m     98\u001b[0m \u001b[43m        \u001b[49m\u001b[43mtoken_type_ids\u001b[49m\u001b[38;5;241;43m=\u001b[39;49m\u001b[43mseg_ids\u001b[49m\n\u001b[1;32m     99\u001b[0m \u001b[43m    \u001b[49m\u001b[43m)\u001b[49m\n\u001b[1;32m    100\u001b[0m     \u001b[38;5;28;01mreturn\u001b[39;00m encoder_dict\u001b[38;5;241m.\u001b[39mpooler_output\n",
      "File \u001b[0;32m/usr/local/anaconda3/envs/da-mstf/lib/python3.8/site-packages/torch/nn/parallel/data_parallel.py:168\u001b[0m, in \u001b[0;36mDataParallel.forward\u001b[0;34m(self, *inputs, **kwargs)\u001b[0m\n\u001b[1;32m    166\u001b[0m     \u001b[38;5;28;01mreturn\u001b[39;00m \u001b[38;5;28mself\u001b[39m\u001b[38;5;241m.\u001b[39mmodule(\u001b[38;5;241m*\u001b[39minputs[\u001b[38;5;241m0\u001b[39m], \u001b[38;5;241m*\u001b[39m\u001b[38;5;241m*\u001b[39mkwargs[\u001b[38;5;241m0\u001b[39m])\n\u001b[1;32m    167\u001b[0m replicas \u001b[38;5;241m=\u001b[39m \u001b[38;5;28mself\u001b[39m\u001b[38;5;241m.\u001b[39mreplicate(\u001b[38;5;28mself\u001b[39m\u001b[38;5;241m.\u001b[39mmodule, \u001b[38;5;28mself\u001b[39m\u001b[38;5;241m.\u001b[39mdevice_ids[:\u001b[38;5;28mlen\u001b[39m(inputs)])\n\u001b[0;32m--> 168\u001b[0m outputs \u001b[38;5;241m=\u001b[39m \u001b[38;5;28;43mself\u001b[39;49m\u001b[38;5;241;43m.\u001b[39;49m\u001b[43mparallel_apply\u001b[49m\u001b[43m(\u001b[49m\u001b[43mreplicas\u001b[49m\u001b[43m,\u001b[49m\u001b[43m \u001b[49m\u001b[43minputs\u001b[49m\u001b[43m,\u001b[49m\u001b[43m \u001b[49m\u001b[43mkwargs\u001b[49m\u001b[43m)\u001b[49m\n\u001b[1;32m    169\u001b[0m \u001b[38;5;28;01mreturn\u001b[39;00m \u001b[38;5;28mself\u001b[39m\u001b[38;5;241m.\u001b[39mgather(outputs, \u001b[38;5;28mself\u001b[39m\u001b[38;5;241m.\u001b[39moutput_device)\n",
      "File \u001b[0;32m/usr/local/anaconda3/envs/da-mstf/lib/python3.8/site-packages/torch/nn/parallel/data_parallel.py:178\u001b[0m, in \u001b[0;36mDataParallel.parallel_apply\u001b[0;34m(self, replicas, inputs, kwargs)\u001b[0m\n\u001b[1;32m    177\u001b[0m \u001b[38;5;28;01mdef\u001b[39;00m \u001b[38;5;21mparallel_apply\u001b[39m(\u001b[38;5;28mself\u001b[39m, replicas, inputs, kwargs):\n\u001b[0;32m--> 178\u001b[0m     \u001b[38;5;28;01mreturn\u001b[39;00m \u001b[43mparallel_apply\u001b[49m\u001b[43m(\u001b[49m\u001b[43mreplicas\u001b[49m\u001b[43m,\u001b[49m\u001b[43m \u001b[49m\u001b[43minputs\u001b[49m\u001b[43m,\u001b[49m\u001b[43m \u001b[49m\u001b[43mkwargs\u001b[49m\u001b[43m,\u001b[49m\u001b[43m \u001b[49m\u001b[38;5;28;43mself\u001b[39;49m\u001b[38;5;241;43m.\u001b[39;49m\u001b[43mdevice_ids\u001b[49m\u001b[43m[\u001b[49m\u001b[43m:\u001b[49m\u001b[38;5;28;43mlen\u001b[39;49m\u001b[43m(\u001b[49m\u001b[43mreplicas\u001b[49m\u001b[43m)\u001b[49m\u001b[43m]\u001b[49m\u001b[43m)\u001b[49m\n",
      "File \u001b[0;32m/usr/local/anaconda3/envs/da-mstf/lib/python3.8/site-packages/torch/nn/parallel/parallel_apply.py:86\u001b[0m, in \u001b[0;36mparallel_apply\u001b[0;34m(modules, inputs, kwargs_tup, devices)\u001b[0m\n\u001b[1;32m     84\u001b[0m     output \u001b[38;5;241m=\u001b[39m results[i]\n\u001b[1;32m     85\u001b[0m     \u001b[38;5;28;01mif\u001b[39;00m \u001b[38;5;28misinstance\u001b[39m(output, ExceptionWrapper):\n\u001b[0;32m---> 86\u001b[0m         \u001b[43moutput\u001b[49m\u001b[38;5;241;43m.\u001b[39;49m\u001b[43mreraise\u001b[49m\u001b[43m(\u001b[49m\u001b[43m)\u001b[49m\n\u001b[1;32m     87\u001b[0m     outputs\u001b[38;5;241m.\u001b[39mappend(output)\n\u001b[1;32m     88\u001b[0m \u001b[38;5;28;01mreturn\u001b[39;00m outputs\n",
      "File \u001b[0;32m/usr/local/anaconda3/envs/da-mstf/lib/python3.8/site-packages/torch/_utils.py:434\u001b[0m, in \u001b[0;36mExceptionWrapper.reraise\u001b[0;34m(self)\u001b[0m\n\u001b[1;32m    430\u001b[0m \u001b[38;5;28;01mexcept\u001b[39;00m \u001b[38;5;167;01mTypeError\u001b[39;00m:\n\u001b[1;32m    431\u001b[0m     \u001b[38;5;66;03m# If the exception takes multiple arguments, don't try to\u001b[39;00m\n\u001b[1;32m    432\u001b[0m     \u001b[38;5;66;03m# instantiate since we don't know how to\u001b[39;00m\n\u001b[1;32m    433\u001b[0m     \u001b[38;5;28;01mraise\u001b[39;00m \u001b[38;5;167;01mRuntimeError\u001b[39;00m(msg) \u001b[38;5;28;01mfrom\u001b[39;00m \u001b[38;5;28;01mNone\u001b[39;00m\n\u001b[0;32m--> 434\u001b[0m \u001b[38;5;28;01mraise\u001b[39;00m exception\n",
      "\u001b[0;31mRuntimeError\u001b[0m: Caught RuntimeError in replica 0 on device 0.\nOriginal Traceback (most recent call last):\n  File \"/usr/local/anaconda3/envs/da-mstf/lib/python3.8/site-packages/torch/nn/parallel/parallel_apply.py\", line 61, in _worker\n    output = module(*input, **kwargs)\n  File \"/usr/local/anaconda3/envs/da-mstf/lib/python3.8/site-packages/torch/nn/modules/module.py\", line 1102, in _call_impl\n    return forward_call(*input, **kwargs)\n  File \"/home/ubuntu/da-mstf_rumor/da-mstf_rumor/BaseModel/modeling_bert.py\", line 1100, in forward\n    encoder_outputs = self.encoder(\n  File \"/usr/local/anaconda3/envs/da-mstf/lib/python3.8/site-packages/torch/nn/modules/module.py\", line 1102, in _call_impl\n    return forward_call(*input, **kwargs)\n  File \"/home/ubuntu/da-mstf_rumor/da-mstf_rumor/BaseModel/modeling_bert.py\", line 691, in forward\n    layer_outputs = layer_module(\n  File \"/usr/local/anaconda3/envs/da-mstf/lib/python3.8/site-packages/torch/nn/modules/module.py\", line 1102, in _call_impl\n    return forward_call(*input, **kwargs)\n  File \"/home/ubuntu/da-mstf_rumor/da-mstf_rumor/BaseModel/modeling_bert.py\", line 576, in forward\n    self_attention_outputs = self.attention(\n  File \"/usr/local/anaconda3/envs/da-mstf/lib/python3.8/site-packages/torch/nn/modules/module.py\", line 1102, in _call_impl\n    return forward_call(*input, **kwargs)\n  File \"/home/ubuntu/da-mstf_rumor/da-mstf_rumor/BaseModel/modeling_bert.py\", line 506, in forward\n    self_outputs = self.self(\n  File \"/usr/local/anaconda3/envs/da-mstf/lib/python3.8/site-packages/torch/nn/modules/module.py\", line 1102, in _call_impl\n    return forward_call(*input, **kwargs)\n  File \"/home/ubuntu/da-mstf_rumor/da-mstf_rumor/BaseModel/modeling_bert.py\", line 407, in forward\n    attention_scores = torch.matmul(query_layer, key_layer.transpose(-1, -2))\nRuntimeError: CUDA out of memory. Tried to allocate 540.00 MiB (GPU 0; 23.64 GiB total capacity; 17.84 GiB already allocated; 321.69 MiB free; 21.21 GiB reserved in total by PyTorch) If reserved memory is >> allocated memory try setting max_split_size_mb to avoid fragmentation.  See documentation for Memory Management and PYTORCH_CUDA_ALLOC_CONF\n"
     ]
    }
   ],
   "source": [
    "    logDir = f\"../../autodl-tmp/pkl/GpDANN/{test_event_name}/\"\n",
    "\n",
    "    print(\"%s : (dev event)/(test event)/(train event) = %3d/%3d/%3d\" % (\n",
    "        test_event_name, len(val_set), len(test_set), len(source_domain)))\n",
    "    # print(\"\\n\\n===========%s Train===========\\n\\n\" % te.data[te.data_ID[0]]['event'])\n",
    "    print(\"\\n\\n===========%s Out Domain Train===========\\n\\n\" % test_event_name)\n",
    "\n",
    "    bertPath = r\"../../autodl-tmp/bert_en\"\n",
    "    model = obtain_Transformer(bertPath)\n",
    "    source_domain.initGraph()\n",
    "    dev_eval = TransformerEvaluator(val_set, batch_size=20)\n",
    "    te_eval = TransformerEvaluator(test_set, batch_size=20)\n",
    "    trainer = MCMCBiGCNTrainer(logDir, None, model_rename=False, beam_K=3, batch_dir=f\"./aug_dir4\")\n",
    "    if os.path.exists(f\"../../autodl-tmp/pkl/GpDANN/{test_event_name}/BiGCN_{test_event_name}.pkl\"):\n",
    "        model.load_model(f\"../../autodl-tmp/pkl/GpDANN/{test_event_name}/BiGCN_{test_event_name}.pkl\")\n",
    "    else:\n",
    "        trainer.fit(model, source_domain, dev_eval, te_eval, batch_size=32, grad_accum_cnt=1, learning_rate=2e-5,\n",
    "                max_epochs=20,\n",
    "                model_file=os.path.join(logDir, f'BiGCN_{test_event_name}.pkl'))\n",
    "        if os.path.exists(f\"../../autodl-tmp/pkl/GpDANN/{test_event_name}/BiGCN_{test_event_name}.pkl\"):\n",
    "            model.load_model(f\"../../autodl-tmp/pkl/GpDANN/{test_event_name}/BiGCN_{test_event_name}.pkl\")\n",
    "        else:\n",
    "            model.save_model(f\"../../autodl-tmp/pkl/GpDANN/{test_event_name}/BiGCN_{test_event_name}.pkl\")    \n",
    "\n",
    "    #可以考虑修改的参数包括learning_rate,epsolon_ball,G_lr,D_lr,dStep\n",
    "    trainer = DgMSTF_Trainer(random_seed=10086, log_dir=logDir, suffix=f\"{test_event_name}_FS{fewShotCnt}\",model_file=f\"../../autodl-tmp/pkl/GpDANN/DgMSTF_{test_event_name}_FS{fewShotCnt}.pkl\", domain_num=5,class_num=2, temperature=0.05, learning_rate=4e-5, batch_size=24, epsilon_ball=5e-4, Lambda=0.1, G_lr = 5e-4, D_lr=2e-4, valid_every=10, dStep=20) \n",
    "    bert_config = BertConfig.from_pretrained(bertPath,num_labels = 2)\n",
    "    model_device = torch.device(\"cuda\") if torch.cuda.is_available() else torch.device(\"cpu\")\n",
    "    discriminator = DomainDiscriminator(hidden_size=bert_config.hidden_size,\n",
    "                                        model_device = model_device,\n",
    "                                        learningRate=2e-5,\n",
    "                                        domain_num=5)\n",
    "    trainer.domain_discriminator = discriminator\n",
    "    print(\"being domain discriminate!\")\n",
    "    if os.path.exists(f\"../../autodl-tmp/pkl/GpDANN/DomainDiscriminator_{test_event_name}.pkl\"):\n",
    "        trainer.domain_discriminator.load_state_dict(\n",
    "            torch.load(f\"../../autodl-tmp/pkl/GpDANN/DomainDiscriminator_{test_event_name}.pkl\")\n",
    "        )\n",
    "    else:\n",
    "        for epoch in range(2):\n",
    "            trainer.optimizeDiscriminator(model, source_domain, new_unlabeled_target, max_step=500)\n",
    "        torch.save(trainer.domain_discriminator.state_dict(), f\"../../autodl-tmp/pkl/GpDANN/DomainDiscriminator_{test_event_name}.pkl\")\n",
    "    trainer.Training(model, source_domain, new_unlabeled_target, test_set, dev_eval, te_eval, max_iterate=100)"
   ]
  },
  {
   "cell_type": "code",
   "execution_count": null,
   "id": "bc4f147c-2ea3-4773-ac8e-e240e7618b4f",
   "metadata": {},
   "outputs": [],
   "source": []
  }
 ],
 "metadata": {
  "kernelspec": {
   "display_name": "Python 3 (ipykernel)",
   "language": "python",
   "name": "python3"
  },
  "language_info": {
   "codemirror_mode": {
    "name": "ipython",
    "version": 3
   },
   "file_extension": ".py",
   "mimetype": "text/x-python",
   "name": "python",
   "nbconvert_exporter": "python",
   "pygments_lexer": "ipython3",
   "version": "3.8.20"
  }
 },
 "nbformat": 4,
 "nbformat_minor": 5
}
